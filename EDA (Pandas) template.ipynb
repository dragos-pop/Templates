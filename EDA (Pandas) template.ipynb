{
 "cells": [
  {
   "cell_type": "markdown",
   "metadata": {},
   "source": [
    "# EDA template"
   ]
  },
  {
   "cell_type": "code",
   "execution_count": null,
   "metadata": {},
   "outputs": [],
   "source": [
    "import pandas as pd\n",
    "import scipy.stats\n",
    "import matplotlib.pyplot as plt\n",
    "%matplotlib inline \n",
    "#ensure that plots are displayed inside the notebook\n",
    "import pyodbc\n",
    "import seaborn as sns\n",
    "import JSON\n",
    "from lxml import objectify"
   ]
  },
  {
   "cell_type": "markdown",
   "metadata": {},
   "source": [
    "## <u> Reading the data in a dataframe"
   ]
  },
  {
   "cell_type": "code",
   "execution_count": null,
   "metadata": {},
   "outputs": [],
   "source": [
    "# csv\n",
    "df = pd.read_csv(\"file.csv\", index_col=0, header=0, parse_dates=True, delimiter=';')"
   ]
  },
  {
   "cell_type": "code",
   "execution_count": null,
   "metadata": {},
   "outputs": [],
   "source": [
    "# HTML\n",
    "url = \"https://www. ...\"\n",
    "df = pd.read_html(url, index_col=0)"
   ]
  },
  {
   "cell_type": "code",
   "execution_count": null,
   "metadata": {},
   "outputs": [],
   "source": [
    "# JSON\n",
    "df = pd.read_json(\"file.json\")"
   ]
  },
  {
   "cell_type": "code",
   "execution_count": null,
   "metadata": {},
   "outputs": [],
   "source": [
    "# local database\n",
    "DRIVER_DB = 'MySQL ODBC 8.0 ANSI Driver'\n",
    "SERVER_DB = '127.0.0.1'\n",
    "NAME_DB = 'db'\n",
    "USERNAME_DB = 'usr'\n",
    "PASSWORD_DB = 'pwd'\n",
    "\n",
    "cnxn = pyodbc.connect(DRIVER=DRIVER_DB, SERVER=SERVER_DB, DATABASE=NAME_DB, UID=USERNAME_DB, PWD=PASSWORD_DB)\n",
    "df = pd.read_sql_query(\"SELECT * FROM TABLE_patients;\", cnxn)"
   ]
  },
  {
   "cell_type": "markdown",
   "metadata": {},
   "source": [
    "## <u> EDA\n"
   ]
  },
  {
   "cell_type": "code",
   "execution_count": null,
   "metadata": {},
   "outputs": [],
   "source": [
    "# get the name of the columns in the dataframe\n",
    "print(\"The columns are:\", list(df.columns))"
   ]
  },
  {
   "cell_type": "code",
   "execution_count": null,
   "metadata": {},
   "outputs": [],
   "source": [
    "# rename columns\n",
    "df = df.rename(columns={'oldX':'newX', 'oldY':'newY'})"
   ]
  },
  {
   "cell_type": "code",
   "execution_count": null,
   "metadata": {},
   "outputs": [],
   "source": [
    "# print the dataframes's first 5 rows\n",
    "print(\"The first 5 rows are:\\n\")\n",
    "with pd.option_context('display.max_rows', None, 'display.max_columns', None):\n",
    "    print(df.head(5))"
   ]
  },
  {
   "cell_type": "code",
   "execution_count": null,
   "metadata": {},
   "outputs": [],
   "source": [
    "# print the distinct values in variable X\n",
    "print(\"The distinct values of variable X are:\", df['X'].unique())"
   ]
  },
  {
   "cell_type": "code",
   "execution_count": null,
   "metadata": {},
   "outputs": [],
   "source": [
    "# count the records\n",
    "print(\"The number of records is:\", len(df))"
   ]
  },
  {
   "cell_type": "code",
   "execution_count": null,
   "metadata": {},
   "outputs": [],
   "source": [
    "# count the missing entries per column\n",
    "a = df.isnull().sum()>0\n",
    "print(\"The number of missing values per column is:\")\n",
    "print(df.isnull().sum()[a])"
   ]
  },
  {
   "cell_type": "markdown",
   "metadata": {},
   "source": [
    "### Dealing with missing entries:\n",
    "1) <u>Remove the rows with NA entries:</u>\n",
    "&nbsp;&nbsp;  df = df.dropna()\n",
    "\n",
    "2) <u>Remove the columns with NA entries:</u>\n",
    "&nbsp;&nbsp;  df = df.drop(['X'], axis = 1)\n",
    "\n",
    "3) <u>Imput based on mode (if categorical)/ mean (if numberical)</u>\n",
    "&nbsp;&nbsp;  df['X'].fillna(df['X'].mode(), inplace=True) OR df['X'].fillna(df['X'].mean(), inplace=True)\n",
    "\n",
    "4) <u>Imput based on other highly correlated variable</u>\n",
    "\n",
    "5) <u>Imput based on prediction model</u>\n",
    "\n"
   ]
  },
  {
   "cell_type": "code",
   "execution_count": null,
   "metadata": {},
   "outputs": [],
   "source": [
    "# check the type of X\n",
    "print(\"The type of X is:\", type(df['X'][0]))"
   ]
  },
  {
   "cell_type": "code",
   "execution_count": null,
   "metadata": {},
   "outputs": [],
   "source": [
    "# convert X to datetime\n",
    "df['X'] = pd.to_datetime(df['X'])"
   ]
  },
  {
   "cell_type": "code",
   "execution_count": null,
   "metadata": {},
   "outputs": [],
   "source": [
    "# converts X to float\n",
    "df['X'] = df['X'].astype(float)"
   ]
  },
  {
   "cell_type": "code",
   "execution_count": null,
   "metadata": {},
   "outputs": [],
   "source": [
    "# summarize the variable X of the df\n",
    "print(\"The descriptive statitics are:\")\n",
    "print(df['X'].describe())"
   ]
  },
  {
   "cell_type": "markdown",
   "metadata": {},
   "source": [
    "###  Plots"
   ]
  },
  {
   "cell_type": "code",
   "execution_count": null,
   "metadata": {},
   "outputs": [],
   "source": [
    "# plot the scatter plot between variable X and Y\n",
    "df.plot.scatter(x=X, y=Y, title='Scatter plot X against Y');"
   ]
  },
  {
   "cell_type": "code",
   "execution_count": null,
   "metadata": {},
   "outputs": [],
   "source": [
    "# plot the histogram of X\n",
    "df['X'].plot.hist(bins=10, title=\"Histogram of X\");"
   ]
  },
  {
   "cell_type": "code",
   "execution_count": null,
   "metadata": {},
   "outputs": [],
   "source": [
    "# plot the boxplot between numerical variable X and categorical Y\n",
    "sns.boxplot(x=df['X'], y=df['Y']);"
   ]
  },
  {
   "cell_type": "code",
   "execution_count": null,
   "metadata": {},
   "outputs": [],
   "source": [
    "# plot the ditribution of the variable X of the df (to look for outliers/missing values)\n",
    "sns.distplot(df['X']);"
   ]
  },
  {
   "cell_type": "markdown",
   "metadata": {},
   "source": [
    "### Dealing with outliers:\n",
    " 1) <u>Remove the rows:</u>\n",
    "&nbsp;&nbsp;  df = df.dropna()\n",
    "\n",
    "2) <u>Input based on other variables of the record</u>\n",
    "\n",
    "3) <u>Imput based on mode (if categorical)/ mean (if numberical)</u> \n",
    "&nbsp;&nbsp;  df['X'].fillna(df['X'].mode(), inplace=True) OR df['X'].fillna(df['X'].mean(), inplace=True)\n"
   ]
  },
  {
   "cell_type": "markdown",
   "metadata": {},
   "source": [
    "### Variables correlated with BP\n",
    "- pearson: assumes all variables are normally distributed, linear and homoscedastic\n",
    "- spearman: appropriate when the variables do not meed the assumptions for Pearson and the data is large with few tied ranks\n",
    "- kendall: appropriate when the variables do not meed the assumptions for Pearson and the data is small with many tied ranks"
   ]
  },
  {
   "cell_type": "code",
   "execution_count": null,
   "metadata": {},
   "outputs": [],
   "source": [
    "# computes correlation coefficient between variable X and Y\n",
    "scipy.stats.pearsonr(df['X'], df['Y'])\n",
    "scipy.stats.spearmanr(df['X'], df['Y'])\n",
    "scipy.stats.kendalltau(df['X'], df['Y'])"
   ]
  },
  {
   "cell_type": "code",
   "execution_count": null,
   "metadata": {},
   "outputs": [],
   "source": [
    "# plots a heatmap with the correlations among all variables within the df\n",
    "corrmat = df.corr(method=\"spearman\")\n",
    "sns.heatmap(corrmat, square=True, annot=True, vmin = -1, vmax = 1);"
   ]
  },
  {
   "cell_type": "code",
   "execution_count": null,
   "metadata": {},
   "outputs": [],
   "source": [
    "# plots a heatmap with the correlations among the top 10 variables correlated with X\n",
    "corrmat = df.corr(method=\"spearman\")\n",
    "cols = corrmat.nlargest(10, 'X').index\n",
    "sns.heatmap(corrmat.loc[cols, cols], annot=True);"
   ]
  },
  {
   "cell_type": "markdown",
   "metadata": {},
   "source": [
    "### Test for significant diferences between samples"
   ]
  },
  {
   "cell_type": "code",
   "execution_count": null,
   "metadata": {},
   "outputs": [],
   "source": [
    "# checks if a sample is normally distributed\n",
    "def is_normal(sample, significance_level):\n",
    "    p_value = scipy.stats.shapiro(sample)[1] # Shapiro-Wilk test is a Goodness of Fit test that checks if a distribution is normal\n",
    "    if p_value > significance_level:\n",
    "        return True\n",
    "    else:\n",
    "        return False"
   ]
  },
  {
   "cell_type": "code",
   "execution_count": null,
   "metadata": {},
   "outputs": [],
   "source": [
    "# tests if there are significant differences between two samples -> returns p-value -> if p-value > significance level -> No significant differences\n",
    "def compare(sample1, sample2, significance_level):\n",
    "    if is_normal(sample1, significance_level) and is_normal(sample2, significance_level):\n",
    "        print(scipy.stats.ttest_ind(sample1, sample2)) # t-test is used because both samples are normally distributed\n",
    "    else:\n",
    "        print(scipy.stats.ranksums(sample1, sample2)) # Wilcoxon rank-sum test was used because at least one of the sample is not normally distributed"
   ]
  }
 ],
 "metadata": {
  "kernelspec": {
   "display_name": "Python 3",
   "language": "python",
   "name": "python3"
  },
  "language_info": {
   "codemirror_mode": {
    "name": "ipython",
    "version": 3
   },
   "file_extension": ".py",
   "mimetype": "text/x-python",
   "name": "python",
   "nbconvert_exporter": "python",
   "pygments_lexer": "ipython3",
   "version": "3.8.3"
  }
 },
 "nbformat": 4,
 "nbformat_minor": 4
}
